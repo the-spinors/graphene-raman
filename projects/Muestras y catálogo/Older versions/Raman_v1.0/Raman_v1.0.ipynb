{
 "cells": [
  {
   "cell_type": "code",
   "execution_count": 1,
   "id": "db3ff6c1-7197-407d-b0e7-cf63c7388552",
   "metadata": {},
   "outputs": [],
   "source": [
    "import os\n",
    "import pandas as pd\n",
    "import numpy as np\n",
    "import matplotlib.pyplot as plt\n",
    "from scipy.optimize import leastsq\n",
    "from PIL import Image as img"
   ]
  },
  {
   "cell_type": "code",
   "execution_count": 2,
   "id": "275a368e-01df-461e-8a0a-c644525fb8cc",
   "metadata": {},
   "outputs": [],
   "source": [
    "folder = \"Muestras_12.11.24\""
   ]
  },
  {
   "cell_type": "code",
   "execution_count": 3,
   "id": "709c0292-0d6e-4005-9868-9bf30dc45b4b",
   "metadata": {},
   "outputs": [],
   "source": [
    "def create_directory(path):\n",
    "    directory = []\n",
    "    for filename in filter(lambda p: p.endswith(\"txt\"),os.listdir(path)):\n",
    "        filepath = os.path.join(path,filename)\n",
    "        directory.append(filepath)\n",
    "    return directory"
   ]
  },
  {
   "cell_type": "code",
   "execution_count": 4,
   "id": "20560772-580c-447e-be92-80700e2434ef",
   "metadata": {},
   "outputs": [],
   "source": [
    "def extract_data(filepath):\n",
    "    df = pd.read_csv(filepath,names=[\"1\",\"2\"],sep=\"\\t\")\n",
    "    return df"
   ]
  },
  {
   "cell_type": "code",
   "execution_count": 5,
   "id": "b87c899e-466c-4853-a9c0-75c03ab6d123",
   "metadata": {},
   "outputs": [],
   "source": [
    "def graph_data(directory):\n",
    "    for filepath in directory:\n",
    "        raman_df = extract_data(filepath)\n",
    "        fig = plt.figure(figsize=(20,5))\n",
    "        ax = fig.add_subplot(1,1,1)\n",
    "        raman_shift = raman_df[\"1\"][raman_df['1']>1200]\n",
    "        arb_intensity= raman_df[\"2\"][raman_df['1']>1200]\n",
    "        ax.plot(raman_shift,arb_intensity,linewidth=1,label='Espectro del Grafeno',color=\"b\")\n",
    "        ax.grid()\n",
    "        ax.set_ylabel('Intensity [Arbs]')\n",
    "        ax.set_xlabel('Raman Shift [cm^-1]')\n",
    "        ax.set_title(filepath[:-4])\n",
    "        ax.legend()\n",
    "        plt.savefig(filepath[:-4])\n",
    "        plt.show()"
   ]
  },
  {
   "cell_type": "code",
   "execution_count": 6,
   "id": "4080bf3d-a222-4f5d-b412-5b3729178340",
   "metadata": {},
   "outputs": [],
   "source": [
    "def generate_catalog_entries(path):\n",
    "    sample = []\n",
    "    concat = []\n",
    "    for sample_filename in filter(lambda p: p.endswith(\"espectros.png\"),os.listdir(path)):\n",
    "        filters=[lambda p: p.startswith(sample_filename[:-14]),lambda p: p.endswith(\"png\"),lambda p: p != sample_filename, lambda p: p !=sample_filename[:-14]+\"_concatenado.png\"]\n",
    "        graph_catalog =[]\n",
    "        for graph_filename in filter(lambda p: all([f(p) for f in filters]),os.listdir(path)):\n",
    "            graph_filepath = os.path.join(path,graph_filename)\n",
    "            graph_catalog.append(graph_filepath)\n",
    "        conc_graphs = img.new(\"RGB\", (2000, 500*len(graph_catalog)))\n",
    "        for i in range(0,len(graph_catalog)):\n",
    "            graph = img.open(graph_catalog[i])\n",
    "            conc_graphs.paste(graph, (0, 500*i))\n",
    "        sample_filepath = os.path.join(path,sample_filename)\n",
    "        conc_graphs.save(sample_filepath[:-14]+\"_concatenado.png\")\n",
    "        concat_filepath = sample_filepath[:-14]+\"_concatenado.png\"\n",
    "        concat.append(concat_filepath)\n",
    "        sample.append(sample_filepath)\n",
    "    return sample, concat"
   ]
  },
  {
   "cell_type": "code",
   "execution_count": 7,
   "id": "fbdb9c79-6c12-470b-be6a-5294b8042955",
   "metadata": {},
   "outputs": [],
   "source": [
    "def anex_to_catalog(sample,concat):\n",
    "    for i in range (0,len(sample)):\n",
    "        catalog_entry = img.new(\"RGB\", (2480, 3508))\n",
    "        i_sample = img.open(sample[i])\n",
    "        i_graphs = img.open(concat[i])\n",
    "        catalog_entry.paste(i_sample,(240,240))\n",
    "        catalog_entry.paste(i_graphs,(240,900))\n",
    "        catalog_entry.save(sample[i][:-14]+\"_catalog_entry.png\")\n",
    "        os.rename(sample[i][0:-14]+\"_catalog_entry.png\",\"catalogo\"+sample[i][17:-14]+\"_catalog_entry.png\")"
   ]
  },
  {
   "cell_type": "code",
   "execution_count": 8,
   "id": "3cdd5ec7-7f25-4cb6-b5ac-4258d0490270",
   "metadata": {},
   "outputs": [
    {
     "ename": "FileNotFoundError",
     "evalue": "[WinError 3] El sistema no puede encontrar la ruta especificada: 'Muestras_12.11.24'",
     "output_type": "error",
     "traceback": [
      "\u001b[1;31m---------------------------------------------------------------------------\u001b[0m",
      "\u001b[1;31mFileNotFoundError\u001b[0m                         Traceback (most recent call last)",
      "Cell \u001b[1;32mIn[8], line 1\u001b[0m\n\u001b[1;32m----> 1\u001b[0m directory \u001b[38;5;241m=\u001b[39m create_directory(folder)\n\u001b[0;32m      2\u001b[0m graph_data(directory)\n\u001b[0;32m      3\u001b[0m sample, concat \u001b[38;5;241m=\u001b[39m generate_catalog_entries(folder)\n",
      "Cell \u001b[1;32mIn[3], line 3\u001b[0m, in \u001b[0;36mcreate_directory\u001b[1;34m(path)\u001b[0m\n\u001b[0;32m      1\u001b[0m \u001b[38;5;28;01mdef\u001b[39;00m \u001b[38;5;21mcreate_directory\u001b[39m(path):\n\u001b[0;32m      2\u001b[0m     directory \u001b[38;5;241m=\u001b[39m []\n\u001b[1;32m----> 3\u001b[0m     \u001b[38;5;28;01mfor\u001b[39;00m filename \u001b[38;5;129;01min\u001b[39;00m \u001b[38;5;28mfilter\u001b[39m(\u001b[38;5;28;01mlambda\u001b[39;00m p: p\u001b[38;5;241m.\u001b[39mendswith(\u001b[38;5;124m\"\u001b[39m\u001b[38;5;124mtxt\u001b[39m\u001b[38;5;124m\"\u001b[39m),os\u001b[38;5;241m.\u001b[39mlistdir(path)):\n\u001b[0;32m      4\u001b[0m         filepath \u001b[38;5;241m=\u001b[39m os\u001b[38;5;241m.\u001b[39mpath\u001b[38;5;241m.\u001b[39mjoin(path,filename)\n\u001b[0;32m      5\u001b[0m         directory\u001b[38;5;241m.\u001b[39mappend(filepath)\n",
      "\u001b[1;31mFileNotFoundError\u001b[0m: [WinError 3] El sistema no puede encontrar la ruta especificada: 'Muestras_12.11.24'"
     ]
    }
   ],
   "source": [
    "directory = create_directory(folder)\n",
    "graph_data(directory)\n",
    "sample, concat = generate_catalog_entries(folder)\n",
    "anex_to_catalog(sample, concat)"
   ]
  }
 ],
 "metadata": {
  "kernelspec": {
   "display_name": "Python 3 (ipykernel)",
   "language": "python",
   "name": "python3"
  },
  "language_info": {
   "codemirror_mode": {
    "name": "ipython",
    "version": 3
   },
   "file_extension": ".py",
   "mimetype": "text/x-python",
   "name": "python",
   "nbconvert_exporter": "python",
   "pygments_lexer": "ipython3",
   "version": "3.12.4"
  }
 },
 "nbformat": 4,
 "nbformat_minor": 5
}
