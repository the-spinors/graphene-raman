{
 "cells": [
  {
   "cell_type": "code",
   "execution_count": 1,
   "id": "1a261286-bc35-4e80-bbb7-a73886e0b418",
   "metadata": {},
   "outputs": [],
   "source": [
    "import os\n",
    "import pandas as pd\n",
    "import numpy as np\n",
    "import matplotlib.pyplot as plt\n",
    "from PIL import Image as img\n",
    "from PIL import ImageDraw,ImageFont\n",
    "from datetime import date"
   ]
  },
  {
   "cell_type": "code",
   "execution_count": 8,
   "id": "e5e805f3-42ea-4572-9515-426d57f0e7e9",
   "metadata": {},
   "outputs": [],
   "source": [
    "def create_cover():\n",
    "    catalog_cover = img.new(\"RGB\", (2480, 3508), color=(255,255,255))\n",
    "    fc_logo = img.open(\"../Icons/fc_logo.png\")\n",
    "    catalog_cover.paste(fc_logo.resize((550,600)), (1690, 2800))\n",
    "    text = ImageDraw.Draw(catalog_cover)\n",
    "    title_font = ImageFont.truetype(r'..\\Fonts\\timesbd.ttf', 200)\n",
    "    subtitle_font = ImageFont.truetype(r'..\\Fonts\\times.ttf', 120)\n",
    "    names_font = ImageFont.truetype(r'..\\Fonts\\times.ttf', 75)\n",
    "    date_font = ImageFont.truetype(r'..\\Fonts\\timesi.ttf', 60)\n",
    "    text.text((240,240),\"Facultad de Ciencias, UNAM\", fill = \"black\", font=date_font, allign=\"left\")\n",
    "    text.text((240,340),\"Catálogo \\nMuestras de Grafeno\", fill = \"black\", font=title_font, allign=\"left\")\n",
    "    text.text((240,760),\"Con Espectroscopía Raman\", fill = \"black\", font=subtitle_font, allign=\"left\")\n",
    "    text.text((240,1000),\"Ángel André Aguilar Contreras \\nEmilio Moreno Ledesma \\nEdna Magdalena Hernández González\",\n",
    "              fill = \"black\", font=names_font, allign=\"left\")\n",
    "    text.text((240,3200),\"Versión actualizada a \\n\" + str(date.today()), fill=\"black\", font=date_font, allign=\"left\")\n",
    "    catalog_cover.save(\"./Catalog/catalog_cover.png\")\n",
    "\n",
    "\n",
    "def create_directory(path):\n",
    "    directory = []\n",
    "    for filename in filter(lambda p: p.endswith(\"png\"), os.listdir(path)):\n",
    "        filepath = os.path.join(path, filename)\n",
    "        directory.append(filepath)\n",
    "    return directory\n",
    "\n",
    "\n",
    "def retrieve_catalog(dierctory):\n",
    "    catalog_items = [img.open(f) for f in dierctory]\n",
    "    today = str(date.today())\n",
    "    catalog_items[0].save(f\"catalog_{today}.pdf\", resolution=100.0, save_all=True, append_images=catalog_items[1:])"
   ]
  },
  {
   "cell_type": "code",
   "execution_count": 9,
   "id": "4ccc25a3-c539-4420-a19d-f797ab0aa68c",
   "metadata": {},
   "outputs": [],
   "source": [
    "create_cover()\n",
    "directory = create_directory(\"./Catalog\")\n",
    "retrieve_catalog(directory)"
   ]
  },
  {
   "cell_type": "code",
   "execution_count": null,
   "id": "a33f718f-01ee-478b-8988-1e024260670f",
   "metadata": {},
   "outputs": [],
   "source": []
  }
 ],
 "metadata": {
  "kernelspec": {
   "display_name": "Python 3 (ipykernel)",
   "language": "python",
   "name": "python3"
  },
  "language_info": {
   "codemirror_mode": {
    "name": "ipython",
    "version": 3
   },
   "file_extension": ".py",
   "mimetype": "text/x-python",
   "name": "python",
   "nbconvert_exporter": "python",
   "pygments_lexer": "ipython3",
   "version": "3.10.7"
  }
 },
 "nbformat": 4,
 "nbformat_minor": 5
}
