{
 "cells": [
  {
   "cell_type": "code",
   "execution_count": 1,
   "id": "ae329459-8c07-44de-ba0d-a1fbb178f4cb",
   "metadata": {},
   "outputs": [],
   "source": [
    "import sys\n",
    "import os\n",
    "import pandas as pd\n",
    "import numpy as np\n",
    "import matplotlib.pyplot as plt\n",
    "from PIL import Image as img\n",
    "from PIL import ImageDraw,ImageFont\n",
    "\n",
    "sys.path.insert(0, '../')\n",
    "from raman_analyzer import *"
   ]
  },
  {
   "cell_type": "code",
   "execution_count": 2,
   "id": "d173efb0-5953-46ee-b418-6e0f58ee7e06",
   "metadata": {},
   "outputs": [],
   "source": [
    "global_path = '../Muestras_12-11-24'\n",
    "IO(global_path)\n",
    "name = 'Muestras 12-11-24'\n",
    "date = '12-11-24'\n",
    "batch = Batch(name, date=date)"
   ]
  },
  {
   "cell_type": "code",
   "execution_count": 3,
   "id": "c0e231d3-8ef7-4878-9e51-cb03ac26deed",
   "metadata": {},
   "outputs": [],
   "source": [
    "batch.generate_catalog_entries()\n",
    "#batch.anex_to_catalog()"
   ]
  },
  {
   "cell_type": "code",
   "execution_count": 4,
   "id": "be43ed5c-2fc8-4164-9588-2644fd996322",
   "metadata": {},
   "outputs": [
    {
     "data": {
      "text/plain": [
       "{'azul100x':             shift    intensity\n",
       " 0     -174.488245  1148.900024\n",
       " 1     -171.353867  1146.400024\n",
       " 2     -168.220513  1149.099976\n",
       " 3     -165.088184  1148.599976\n",
       " 4     -161.956878  1148.099976\n",
       " ...           ...          ...\n",
       " 1595  3767.646370  1154.900024\n",
       " 1596  3769.589126  1154.500000\n",
       " 1597  3771.531366  1156.000000\n",
       " 1598  3773.473089  1156.099976\n",
       " 1599  3775.414297  1156.000000\n",
       " \n",
       " [1600 rows x 2 columns],\n",
       " 'cian100x':             shift    intensity\n",
       " 0     -174.488245  1147.699951\n",
       " 1     -171.353867  1148.199951\n",
       " 2     -168.220513  1148.099976\n",
       " 3     -165.088184  1147.300049\n",
       " 4     -161.956878  1146.400024\n",
       " ...           ...          ...\n",
       " 1595  3767.646370  1158.199951\n",
       " 1596  3769.589126  1154.699951\n",
       " 1597  3771.531366  1154.199951\n",
       " 1598  3773.473089  1155.400024\n",
       " 1599  3775.414297  1156.400024\n",
       " \n",
       " [1600 rows x 2 columns],\n",
       " 'rojo100x':             shift    intensity\n",
       " 0     -174.488245  1147.800049\n",
       " 1     -171.353867  1146.199951\n",
       " 2     -168.220513  1148.400024\n",
       " 3     -165.088184  1148.099976\n",
       " 4     -161.956878  1149.900024\n",
       " ...           ...          ...\n",
       " 1595  3767.646370  1199.800049\n",
       " 1596  3769.589126  1195.300049\n",
       " 1597  3771.531366  1198.699951\n",
       " 1598  3773.473089  1202.099976\n",
       " 1599  3775.414297  1193.099976\n",
       " \n",
       " [1600 rows x 2 columns],\n",
       " 'verde100x':             shift    intensity\n",
       " 0     -174.488245  1148.199951\n",
       " 1     -171.353867  1147.900024\n",
       " 2     -168.220513  1148.500000\n",
       " 3     -165.088184  1149.000000\n",
       " 4     -161.956878  1148.599976\n",
       " ...           ...          ...\n",
       " 1595  3767.646370  1151.300049\n",
       " 1596  3769.589126  1155.099976\n",
       " 1597  3771.531366  1151.300049\n",
       " 1598  3773.473089  1154.900024\n",
       " 1599  3775.414297  1153.000000\n",
       " \n",
       " [1600 rows x 2 columns]}"
      ]
     },
     "execution_count": 4,
     "metadata": {},
     "output_type": "execute_result"
    }
   ],
   "source": [
    "weird_one = batch['Muestra 1']['zona3']\n",
    "weird_one.data_df"
   ]
  },
  {
   "cell_type": "code",
   "execution_count": null,
   "id": "954e597a-9a53-438a-a365-46db1ea47bde",
   "metadata": {},
   "outputs": [],
   "source": []
  }
 ],
 "metadata": {
  "kernelspec": {
   "display_name": "Python 3 (ipykernel)",
   "language": "python",
   "name": "python3"
  },
  "language_info": {
   "codemirror_mode": {
    "name": "ipython",
    "version": 3
   },
   "file_extension": ".py",
   "mimetype": "text/x-python",
   "name": "python",
   "nbconvert_exporter": "python",
   "pygments_lexer": "ipython3",
   "version": "3.10.7"
  }
 },
 "nbformat": 4,
 "nbformat_minor": 5
}
