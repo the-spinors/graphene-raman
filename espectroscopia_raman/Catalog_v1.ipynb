{
 "cells": [
  {
   "cell_type": "code",
   "execution_count": 1,
   "id": "1a261286-bc35-4e80-bbb7-a73886e0b418",
   "metadata": {},
   "outputs": [],
   "source": [
    "import os\n",
    "import pandas as pd\n",
    "import numpy as np\n",
    "import matplotlib.pyplot as plt\n",
    "from PIL import Image as img\n",
    "from PIL import ImageDraw,ImageFont"
   ]
  },
  {
   "cell_type": "code",
   "execution_count": 18,
   "id": "e5e805f3-42ea-4572-9515-426d57f0e7e9",
   "metadata": {},
   "outputs": [],
   "source": [
    "def create_directory(path):\n",
    "    directory = []\n",
    "    for filename in filter(lambda p: p.endswith(\"png\"),os.listdir(path)):\n",
    "        filepath = os.path.join(path,filename)\n",
    "        directory.append(filepath)\n",
    "    return directory\n",
    "def retrieve_catalog(dierctory):\n",
    "    catalog_items = [img.open(f) for f in dierctory]\n",
    "    catalog_items[0].save(\"catalog_latest_version.pdf\" ,resolution=100.0, save_all=True, append_images=catalog_items[1:])"
   ]
  },
  {
   "cell_type": "code",
   "execution_count": 19,
   "id": "4ccc25a3-c539-4420-a19d-f797ab0aa68c",
   "metadata": {},
   "outputs": [],
   "source": [
    "directory = create_directory(\"Catalog\")\n",
    "retrieve_catalog(directory)"
   ]
  },
  {
   "cell_type": "code",
   "execution_count": null,
   "id": "08e0d4c2-5658-46e4-93e5-8e701cc299de",
   "metadata": {},
   "outputs": [],
   "source": []
  }
 ],
 "metadata": {
  "kernelspec": {
   "display_name": "Python 3 (ipykernel)",
   "language": "python",
   "name": "python3"
  },
  "language_info": {
   "codemirror_mode": {
    "name": "ipython",
    "version": 3
   },
   "file_extension": ".py",
   "mimetype": "text/x-python",
   "name": "python",
   "nbconvert_exporter": "python",
   "pygments_lexer": "ipython3",
   "version": "3.12.4"
  }
 },
 "nbformat": 4,
 "nbformat_minor": 5
}
